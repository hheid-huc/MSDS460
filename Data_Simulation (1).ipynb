{
 "cells": [
  {
   "cell_type": "markdown",
   "id": "6b6d98b1",
   "metadata": {},
   "source": [
    "### Project Background"
   ]
  },
  {
   "cell_type": "markdown",
   "id": "6bbacfa0",
   "metadata": {},
   "source": [
    "Our Company, Vis-soft, produces data visualization software that competes with PowerBi and Tableau.  With less brand recognition than many of our competitors, Vis-soft offers a 90 day free-trial of its platform.  The Company's CEO would like to predict which trial customers will convert to a paid subscription and which will not.  This will help the Company both with near term financial modeling but also can be used to offer incentivizes to customers not expected to adopt a paid subscription at the end of the trial period."
   ]
  },
  {
   "cell_type": "markdown",
   "id": "ea97239c",
   "metadata": {},
   "source": [
    "### Models and Benchmark"
   ]
  },
  {
   "cell_type": "markdown",
   "id": "e939c222",
   "metadata": {},
   "source": [
    "A data scientist consultant has told us this conversion model is a binary classification problem.  That is to say, we can use attributes observed during the trial period to make a binary prediction of conversion (to a paid subscriber) or non-conversion.  Similiary the consulting team told us that common forms of binary classification models include: random forests, METHOD 2, METHOD 3, AND METHOD 4.  We test each of these models to determine which model proves best in predicting the conversion of a trial user to a paid subscriber."
   ]
  },
  {
   "cell_type": "markdown",
   "id": "ba356951",
   "metadata": {},
   "source": [
    "Based on our own research, we conclude that appropriate bechmarks for defining the predictive power of classification models are: accruacy, precision, recall, and F-1 score.  Each model will be evaluated across these four metrics."
   ]
  },
  {
   "cell_type": "markdown",
   "id": "e62522ba",
   "metadata": {},
   "source": [
    "### Data Attributes"
   ]
  },
  {
   "cell_type": "markdown",
   "id": "bb37d6c7",
   "metadata": {},
   "source": [
    "Our product team has indicated to use that they have identified 20 Vis-soft features that they belief differentiate our product from its competitors.  Furthermore they believe that users that use these features more during the trial period are more likely to convert to paid subscribers.  The product team beliefs two of these features are major differeniators and the other 18 while perhaps useful in a conversion analaysis are less important to customers.  These two major differentiators are described below:"
   ]
  },
  {
   "cell_type": "markdown",
   "id": "f8dd056f",
   "metadata": {},
   "source": [
    "(1) Free publication - Vis-soft users can make their reports and dashboards available to anyone else via a cloud sharing platform.  The Vis-soft user can publish their report, given access to specific email addresses, and anyone registered under that email address can access this report.  While other software packages allow for publishing, that sharing feature has additional costs on other platforms."
   ]
  },
  {
   "cell_type": "markdown",
   "id": "1cebc8c8",
   "metadata": {},
   "source": [
    "(2) AI modules - Vis-soft has native AI modules which allow users to garner deeper insights from their data using AI.  These packages are not yet available in other competitors platforms."
   ]
  },
  {
   "cell_type": "markdown",
   "id": "fe644f3e",
   "metadata": {},
   "source": [
    "### Monte Carlo Simulation"
   ]
  },
  {
   "cell_type": "markdown",
   "id": "5dcd752e",
   "metadata": {},
   "source": [
    "Our product team tells us that number of published reports/dashboards and number of AI modules used are not indepdent.  First both are correlated with hours of usage during the trial period.  They find no users publish reports if they use the platform for less than 20 hours (as it generally takes about 20 hours for new users to get comfortable using the software), but after that the number of reports published follows a normal distribution with mean 10 and standard deviation of 1.  Our team finds that number of AI modules used is also normally distributed with mean x and standard deviation of 1.  However they have found that mean various with prior BI experience.  Users with 0 years of experience never use AI modules, for users with 1 year of experience the average number of modles used is 5, and for users two or more years of experience the mean is 15."
   ]
  },
  {
   "cell_type": "markdown",
   "id": "4d58f915",
   "metadata": {},
   "source": [
    "Finally they tell us that usage time during the trial period is randomly distributed between 0 and 500 hours over the 90 day trial period"
   ]
  },
  {
   "cell_type": "code",
   "execution_count": 1,
   "id": "11b99a37",
   "metadata": {},
   "outputs": [],
   "source": [
    "import numpy as np\n",
    "import pandas as pd"
   ]
  },
  {
   "cell_type": "code",
   "execution_count": 2,
   "id": "da474bc4",
   "metadata": {},
   "outputs": [],
   "source": [
    "#setting up number of simulated users and core customer attribute variables (usage time and prior BI experience)\n",
    "n = 200000\n",
    "prior_bi_experience_values = [0,1,2]\n",
    "prior_bi_experience_prob = [.03,.05,.92]\n",
    "prior_bi_experience = np.random.choice(prior_bi_experience_values, n, p=prior_bi_experience_prob)\n",
    "usage_hours = np.random.uniform(0,500,n)"
   ]
  },
  {
   "cell_type": "code",
   "execution_count": 3,
   "id": "f5228975",
   "metadata": {},
   "outputs": [],
   "source": [
    "#simulating number of publishes per user\n",
    "\n",
    "#first assume all users exceed 20 usage hours\n",
    "publishes_naive = np.random.normal(10,1,n)\n",
    "\n",
    "#zero out observations with associated \n",
    "publications = []\n",
    "usage_list = list(usage_hours)\n",
    "publish_naive_list = list(publishes_naive)\n",
    "for i in range(n):\n",
    "    if usage_list[i] < 20:\n",
    "        publications.append(0)\n",
    "    else:\n",
    "        publications.append(publish_naive_list[i])"
   ]
  },
  {
   "cell_type": "code",
   "execution_count": 4,
   "id": "a9460490",
   "metadata": {},
   "outputs": [],
   "source": [
    "#simulating number of AI modules used\n",
    "ai_1yr_exp =  np.random.normal(5,1,n)\n",
    "a2_more_exp =  np.random.normal(15,1,n)\n",
    "\n",
    "#selecting the appropiate distriubtion based on years of experience\n",
    "ai = []\n",
    "exp_list = list(prior_bi_experience)\n",
    "\n",
    "for i in range(n):\n",
    "    if exp_list[i] == 0:\n",
    "        ai.append(0)\n",
    "    elif exp_list[i] == 1:\n",
    "        ai.append(ai_1yr_exp[i])\n",
    "    else:\n",
    "        ai.append(a2_more_exp[i])"
   ]
  },
  {
   "cell_type": "code",
   "execution_count": 5,
   "id": "52b613bf",
   "metadata": {},
   "outputs": [],
   "source": [
    "#simple attribute add.  we probably should add several of these\n",
    "#note if you add a attribute that allows for negative values we might have decide if that is appropriate or note\n",
    "\n",
    "at3 = np.random.choice([0,1,2,3], n, p=[.3,.4,.1,.2])\n",
    "at4 = np.random.normal(4,1,n)\n",
    "at5 = np.random.uniform(0,10,n)"
   ]
  },
  {
   "cell_type": "markdown",
   "id": "20abf864",
   "metadata": {},
   "source": [
    "### Adding Attributed to a dataframe"
   ]
  },
  {
   "cell_type": "code",
   "execution_count": 6,
   "id": "00c7ebbe",
   "metadata": {},
   "outputs": [],
   "source": [
    "#you will need to add any attributes here\n",
    "d = {\"prior_exp\": prior_bi_experience, \n",
    "     \"usage_hours\": usage_hours, \n",
    "     \"publishes\": publications, \n",
    "     \"ai\": ai,\n",
    "     \"at3\": at3,\n",
    "     \"at4\": at4,\n",
    "     \"at5\": at5\n",
    "    }"
   ]
  },
  {
   "cell_type": "code",
   "execution_count": 7,
   "id": "c0063d0f",
   "metadata": {},
   "outputs": [
    {
     "data": {
      "text/html": [
       "<div>\n",
       "<style scoped>\n",
       "    .dataframe tbody tr th:only-of-type {\n",
       "        vertical-align: middle;\n",
       "    }\n",
       "\n",
       "    .dataframe tbody tr th {\n",
       "        vertical-align: top;\n",
       "    }\n",
       "\n",
       "    .dataframe thead th {\n",
       "        text-align: right;\n",
       "    }\n",
       "</style>\n",
       "<table border=\"1\" class=\"dataframe\">\n",
       "  <thead>\n",
       "    <tr style=\"text-align: right;\">\n",
       "      <th></th>\n",
       "      <th>prior_exp</th>\n",
       "      <th>usage_hours</th>\n",
       "      <th>publishes</th>\n",
       "      <th>ai</th>\n",
       "      <th>at3</th>\n",
       "      <th>at4</th>\n",
       "      <th>at5</th>\n",
       "    </tr>\n",
       "  </thead>\n",
       "  <tbody>\n",
       "    <tr>\n",
       "      <th>count</th>\n",
       "      <td>200000.000000</td>\n",
       "      <td>200000.000000</td>\n",
       "      <td>200000.000000</td>\n",
       "      <td>200000.000000</td>\n",
       "      <td>200000.000000</td>\n",
       "      <td>200000.000000</td>\n",
       "      <td>200000.000000</td>\n",
       "    </tr>\n",
       "    <tr>\n",
       "      <th>mean</th>\n",
       "      <td>1.890440</td>\n",
       "      <td>250.175218</td>\n",
       "      <td>9.599912</td>\n",
       "      <td>14.051599</td>\n",
       "      <td>1.197865</td>\n",
       "      <td>3.998860</td>\n",
       "      <td>5.004053</td>\n",
       "    </tr>\n",
       "    <tr>\n",
       "      <th>std</th>\n",
       "      <td>0.396343</td>\n",
       "      <td>144.626707</td>\n",
       "      <td>2.198206</td>\n",
       "      <td>3.433038</td>\n",
       "      <td>1.076411</td>\n",
       "      <td>1.000608</td>\n",
       "      <td>2.887509</td>\n",
       "    </tr>\n",
       "    <tr>\n",
       "      <th>min</th>\n",
       "      <td>0.000000</td>\n",
       "      <td>0.001127</td>\n",
       "      <td>0.000000</td>\n",
       "      <td>0.000000</td>\n",
       "      <td>0.000000</td>\n",
       "      <td>-0.446405</td>\n",
       "      <td>0.000140</td>\n",
       "    </tr>\n",
       "    <tr>\n",
       "      <th>25%</th>\n",
       "      <td>2.000000</td>\n",
       "      <td>124.657227</td>\n",
       "      <td>9.229995</td>\n",
       "      <td>14.102369</td>\n",
       "      <td>0.000000</td>\n",
       "      <td>3.325622</td>\n",
       "      <td>2.498452</td>\n",
       "    </tr>\n",
       "    <tr>\n",
       "      <th>50%</th>\n",
       "      <td>2.000000</td>\n",
       "      <td>250.366247</td>\n",
       "      <td>9.949248</td>\n",
       "      <td>14.889738</td>\n",
       "      <td>1.000000</td>\n",
       "      <td>3.996904</td>\n",
       "      <td>5.004031</td>\n",
       "    </tr>\n",
       "    <tr>\n",
       "      <th>75%</th>\n",
       "      <td>2.000000</td>\n",
       "      <td>375.300415</td>\n",
       "      <td>10.643674</td>\n",
       "      <td>15.606132</td>\n",
       "      <td>2.000000</td>\n",
       "      <td>4.673544</td>\n",
       "      <td>7.505106</td>\n",
       "    </tr>\n",
       "    <tr>\n",
       "      <th>max</th>\n",
       "      <td>2.000000</td>\n",
       "      <td>499.998308</td>\n",
       "      <td>14.683496</td>\n",
       "      <td>19.357789</td>\n",
       "      <td>3.000000</td>\n",
       "      <td>8.738615</td>\n",
       "      <td>9.999990</td>\n",
       "    </tr>\n",
       "  </tbody>\n",
       "</table>\n",
       "</div>"
      ],
      "text/plain": [
       "           prior_exp    usage_hours      publishes             ai  \\\n",
       "count  200000.000000  200000.000000  200000.000000  200000.000000   \n",
       "mean        1.890440     250.175218       9.599912      14.051599   \n",
       "std         0.396343     144.626707       2.198206       3.433038   \n",
       "min         0.000000       0.001127       0.000000       0.000000   \n",
       "25%         2.000000     124.657227       9.229995      14.102369   \n",
       "50%         2.000000     250.366247       9.949248      14.889738   \n",
       "75%         2.000000     375.300415      10.643674      15.606132   \n",
       "max         2.000000     499.998308      14.683496      19.357789   \n",
       "\n",
       "                 at3            at4            at5  \n",
       "count  200000.000000  200000.000000  200000.000000  \n",
       "mean        1.197865       3.998860       5.004053  \n",
       "std         1.076411       1.000608       2.887509  \n",
       "min         0.000000      -0.446405       0.000140  \n",
       "25%         0.000000       3.325622       2.498452  \n",
       "50%         1.000000       3.996904       5.004031  \n",
       "75%         2.000000       4.673544       7.505106  \n",
       "max         3.000000       8.738615       9.999990  "
      ]
     },
     "execution_count": 7,
     "metadata": {},
     "output_type": "execute_result"
    }
   ],
   "source": [
    "df = pd.DataFrame(d)\n",
    "df.describe()"
   ]
  },
  {
   "cell_type": "markdown",
   "id": "a60229c7",
   "metadata": {},
   "source": [
    "### Utility Function"
   ]
  },
  {
   "cell_type": "code",
   "execution_count": 8,
   "id": "42d3f657",
   "metadata": {},
   "outputs": [],
   "source": [
    "#if you add attributes you need to add them here\n",
    "def utility(a1, a2, a3, a4, a5):\n",
    "    return  a1 + a2 + 0.5*a3 + .5*a4 + .25*a5"
   ]
  },
  {
   "cell_type": "code",
   "execution_count": 9,
   "id": "9525e5bf",
   "metadata": {},
   "outputs": [],
   "source": [
    "#if you add attributes you also need to add them here\n",
    "df['utility'] = utility(df['publishes'],df['ai'],df['at3'],df['at4'],df['at5'])"
   ]
  },
  {
   "cell_type": "code",
   "execution_count": 10,
   "id": "93b243aa",
   "metadata": {},
   "outputs": [],
   "source": [
    "df['conversion'] = np.where(df['utility'] > 29, 1, 0)"
   ]
  },
  {
   "cell_type": "markdown",
   "id": "9c2a9276",
   "metadata": {},
   "source": [
    "### Exporing the dataframe to a CSV"
   ]
  },
  {
   "cell_type": "code",
   "execution_count": 11,
   "id": "093bcb6a",
   "metadata": {},
   "outputs": [],
   "source": [
    "df.to_json(\"sim_data.json\")"
   ]
  }
 ],
 "metadata": {
  "kernelspec": {
   "display_name": "Python 3 (ipykernel)",
   "language": "python",
   "name": "python3"
  },
  "language_info": {
   "codemirror_mode": {
    "name": "ipython",
    "version": 3
   },
   "file_extension": ".py",
   "mimetype": "text/x-python",
   "name": "python",
   "nbconvert_exporter": "python",
   "pygments_lexer": "ipython3",
   "version": "3.9.7"
  }
 },
 "nbformat": 4,
 "nbformat_minor": 5
}
